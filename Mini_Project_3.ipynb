{
 "cells": [
  {
   "cell_type": "code",
   "execution_count": 1,
   "id": "59647927",
   "metadata": {},
   "outputs": [],
   "source": [
    "import neo4j\n",
    "import pandas as pd"
   ]
  },
  {
   "cell_type": "markdown",
   "id": "d7158d25",
   "metadata": {},
   "source": [
    "# Connect to neo4j and the wipe_out function"
   ]
  },
  {
   "cell_type": "code",
   "execution_count": 2,
   "id": "abd9f0b2",
   "metadata": {},
   "outputs": [],
   "source": [
    "def connect_db():\n",
    "    driver = neo4j.GraphDatabase.driver(uri=\"neo4j://0.0.0.0:7687\", auth=(\"neo4j\",\"password\"))\n",
    "    session = driver.session(database=\"neo4j\")\n",
    "    return session\n",
    "    \n",
    "def wipe_out_db(session):\n",
    "    # wipe out database by deleting all nodes and relationships\n",
    "    \n",
    "    # similar to SELECT * FROM graph_db in SQL\n",
    "    query = \"match (node)-[relationship]->() delete node, relationship\"\n",
    "    session.run(query)\n",
    "    \n",
    "    query = \"match (node) delete node\"\n",
    "    session.run(query)\n",
    "\n",
    "session = connect_db()\n",
    "wipe_out_db(session) "
   ]
  },
  {
   "cell_type": "markdown",
   "id": "be9c491c",
   "metadata": {},
   "source": [
    "# Create nodes and import data"
   ]
  },
  {
   "cell_type": "code",
   "execution_count": 3,
   "id": "5663c8bc",
   "metadata": {},
   "outputs": [
    {
     "data": {
      "text/plain": [
       "<neo4j._sync.work.result.Result at 0x12c59d210>"
      ]
     },
     "execution_count": 3,
     "metadata": {},
     "output_type": "execute_result"
    }
   ],
   "source": [
    "query = '''\n",
    "\n",
    "CREATE\n",
    "  (alice:User {name: 'Alice', position: 'Data Scientist', interests: ['NoSQL', 'AI']}),\n",
    "  (bob:User {name: 'Bob', position: 'Student', interests: ['Machine Learning', 'AI']}),\n",
    "  (charlie:User {name: 'Charlie', position: 'Data Scientist', interests: ['Deep Learning', 'NoSQL']}),\n",
    "  (danny:User {name: 'Danny', position: 'Student', interests: ['Computer Vison', 'Machine Learning']}),\n",
    "  (emma:User {name: 'Emma', position: 'Student', interests: ['Statistics', 'AI']}),\n",
    "  (faith:User {name: 'Frank', position: 'Data Analyst', interests: ['Data Visualization', 'Machine Learning']}),\n",
    "\n",
    "  (post1:Post {\n",
    "    post_id: 1, \n",
    "    topic: 'NoSQL',\n",
    "    content: 'Exploring the capabilities of Graph Databases reveals a flexible approach to handling connected data. Unlike traditional databases, NoSQL graph databases like Neo4j offer powerful ways to solve complex problems involving deep relationships.', \n",
    "    author: 'Alice', \n",
    "    timestamp: datetime('2023-01-01T12:00:00'), \n",
    "    likes: 10\n",
    "  }),\n",
    "  (post2:Post {\n",
    "    post_id: 2, \n",
    "    topic: 'AI',\n",
    "    content: 'Advancements in Graph Databases have ushered in a new era of data storage and retrieval. The ability to traverse relationships efficiently opens up AI applications that can dynamically learn and adapt based on the interconnected nature of data.', \n",
    "    author: 'Alice', \n",
    "    timestamp: datetime('2023-01-02T13:00:00'), \n",
    "    likes: 8\n",
    "  }),\n",
    "  (post3:Post {\n",
    "    post_id: 3, \n",
    "    topic: 'Deep Learning',\n",
    "    content: 'The breakthrough in Quantum Computing has the potential to revolutionize industries by performing complex calculations at unprecedented speeds. This leap forward could be the key to solving some of the most challenging problems in Deep Learning.', \n",
    "    author: 'Charlie', \n",
    "    timestamp: datetime('2023-01-03T14:00:00'), \n",
    "    likes: 20\n",
    "  }),\n",
    "  (post4:Post {\n",
    "    post_id: 4, \n",
    "    topic: 'NoSQL',\n",
    "    content: 'Blockchain technology is transforming the Big Data landscape by enhancing security and ensuring the integrity of data transactions. By combining NoSQL databases with blockchain, we can create a transparent, distributed ledger that is both scalable and robust.', \n",
    "    author: 'Charlie', \n",
    "    timestamp: datetime('2023-01-04T15:00:00'), \n",
    "    likes: 25\n",
    "  }),\n",
    "  (post5:Post {\n",
    "    post_id: 5, \n",
    "    topic: 'Machine Learning',\n",
    "    content: 'The rise of Big Data analytics has become a cornerstone in the field of Computer Vision. By leveraging Machine Learning algorithms, we can interpret and understand visual information from the world around us at a granular level.', \n",
    "    author: 'Danny', \n",
    "    timestamp: datetime('2023-01-05T16:00:00'), \n",
    "    likes: 5\n",
    "  }),\n",
    "\n",
    "  (event1:Event {event_id:1, name: 'DSI Annual Meetup', date: date('2023-06-01'), location: 'DSI',\n",
    "                description: 'Networking event for DSI students and alumni.', attendees: 10}),\n",
    "  (event2:Event {event_id:2, name: 'AI Conference', date: date('2023-07-15'), location: 'DSI', \n",
    "                description: 'Conference on the latest trends in AI.', attendees: 50}),\n",
    "\n",
    "  (reply1:Reply {content: 'The versatility of graph databases in managing and querying connected data is amazing!', \n",
    "                author: 'Bob', timestamp: datetime('2023-01-02T12:10:00'), likes: 2}),\n",
    "  (reply2:Reply {content: 'It is truly exciting to think about the implications of quantum computing on deep learning!', \n",
    "                author: 'Emma', timestamp: datetime('2023-01-03T14:30:00'), likes: 3}),\n",
    "\n",
    "  \n",
    "  (alice)-[:FRIENDS_WITH]->(bob),\n",
    "  (bob)-[:FRIENDS_WITH]->(charlie),\n",
    "  (charlie)-[:FRIENDS_WITH]->(danny),\n",
    "  (danny)-[:FRIENDS_WITH]->(emma),\n",
    "  (emma)-[:FRIENDS_WITH]->(alice),\n",
    "\n",
    "  (alice)-[:PUBLISHED]->(post1),\n",
    "  (alice)-[:PUBLISHED]->(post2),\n",
    "  (charlie)-[:PUBLISHED]->(post3),\n",
    "  (charlie)-[:PUBLISHED]->(post4),\n",
    "  (danny)-[:PUBLISHED]->(post5),\n",
    "\n",
    "  (bob)-[:WROTE]->(reply1)-[:IN_RESPONSE_TO]->(post1),\n",
    "  (emma)-[:WROTE]->(reply2)-[:IN_RESPONSE_TO]->(post3),\n",
    "\n",
    "  (alice)-[:WANTS_TO_ATTEND]->(event1),\n",
    "  (bob)-[:WANTS_TO_ATTEND]->(event2),\n",
    "  (charlie)-[:WANTS_TO_ATTEND]->(event2),\n",
    "  (danny)-[:WANTS_TO_ATTEND]->(event1),\n",
    "  (emma)-[:WANTS_TO_ATTEND]->(event1)\n",
    "\n",
    "'''\n",
    "\n",
    "\n",
    "session.run(query)"
   ]
  },
  {
   "cell_type": "markdown",
   "id": "fd4717e8",
   "metadata": {},
   "source": [
    "# Output function"
   ]
  },
  {
   "cell_type": "code",
   "execution_count": 4,
   "id": "183eb9fc",
   "metadata": {},
   "outputs": [],
   "source": [
    "def run_query_to_pandas(session, query):\n",
    "    # run a query and return the results in a pandas dataframe\n",
    "    \n",
    "    result = session.run(query)\n",
    "    \n",
    "    df = pd.DataFrame([r.values() for r in result], columns=result.keys())\n",
    "    \n",
    "    return df\n",
    "\n",
    "def run_query_print_raw(session, query):\n",
    "    result = session.run(query)\n",
    "    \n",
    "    for r in result:\n",
    "        print(r.values())"
   ]
  },
  {
   "cell_type": "markdown",
   "id": "3b21ec1e",
   "metadata": {},
   "source": [
    "# Query tasks"
   ]
  },
  {
   "cell_type": "code",
   "execution_count": 5,
   "id": "165598d7",
   "metadata": {},
   "outputs": [
    {
     "data": {
      "text/html": [
       "<div>\n",
       "<style scoped>\n",
       "    .dataframe tbody tr th:only-of-type {\n",
       "        vertical-align: middle;\n",
       "    }\n",
       "\n",
       "    .dataframe tbody tr th {\n",
       "        vertical-align: top;\n",
       "    }\n",
       "\n",
       "    .dataframe thead th {\n",
       "        text-align: right;\n",
       "    }\n",
       "</style>\n",
       "<table border=\"1\" class=\"dataframe\">\n",
       "  <thead>\n",
       "    <tr style=\"text-align: right;\">\n",
       "      <th></th>\n",
       "      <th>name</th>\n",
       "      <th>interest</th>\n",
       "    </tr>\n",
       "  </thead>\n",
       "  <tbody>\n",
       "    <tr>\n",
       "      <th>0</th>\n",
       "      <td>Alice</td>\n",
       "      <td>[NoSQL, AI]</td>\n",
       "    </tr>\n",
       "  </tbody>\n",
       "</table>\n",
       "</div>"
      ],
      "text/plain": [
       "    name     interest\n",
       "0  Alice  [NoSQL, AI]"
      ]
     },
     "metadata": {},
     "output_type": "display_data"
    }
   ],
   "source": [
    "# Retrieve a property of a specific User \n",
    "query = '''\n",
    "MATCH (n:User {name: 'Alice'})\n",
    "RETURN n.name AS name, n.interests AS interest\n",
    "'''\n",
    "\n",
    "df = run_query_to_pandas(session, query)\n",
    "display(df)"
   ]
  },
  {
   "cell_type": "code",
   "execution_count": 6,
   "id": "5113eb93",
   "metadata": {},
   "outputs": [
    {
     "data": {
      "text/html": [
       "<div>\n",
       "<style scoped>\n",
       "    .dataframe tbody tr th:only-of-type {\n",
       "        vertical-align: middle;\n",
       "    }\n",
       "\n",
       "    .dataframe tbody tr th {\n",
       "        vertical-align: top;\n",
       "    }\n",
       "\n",
       "    .dataframe thead th {\n",
       "        text-align: right;\n",
       "    }\n",
       "</style>\n",
       "<table border=\"1\" class=\"dataframe\">\n",
       "  <thead>\n",
       "    <tr style=\"text-align: right;\">\n",
       "      <th></th>\n",
       "      <th>post_content</th>\n",
       "    </tr>\n",
       "  </thead>\n",
       "  <tbody>\n",
       "    <tr>\n",
       "      <th>0</th>\n",
       "      <td>Advancements in Graph Databases have ushered i...</td>\n",
       "    </tr>\n",
       "    <tr>\n",
       "      <th>1</th>\n",
       "      <td>Exploring the capabilities of Graph Databases ...</td>\n",
       "    </tr>\n",
       "  </tbody>\n",
       "</table>\n",
       "</div>"
      ],
      "text/plain": [
       "                                        post_content\n",
       "0  Advancements in Graph Databases have ushered i...\n",
       "1  Exploring the capabilities of Graph Databases ..."
      ]
     },
     "metadata": {},
     "output_type": "display_data"
    }
   ],
   "source": [
    "# Find all Posts created by a specific User\n",
    "query = '''\n",
    "MATCH (n:User {name: 'Alice'})-[:PUBLISHED]->(p:Post)\n",
    "RETURN p.content AS post_content\n",
    "'''\n",
    "df = run_query_to_pandas(session, query)\n",
    "display(df)"
   ]
  },
  {
   "cell_type": "code",
   "execution_count": 7,
   "id": "d4211b1e",
   "metadata": {},
   "outputs": [
    {
     "data": {
      "text/html": [
       "<div>\n",
       "<style scoped>\n",
       "    .dataframe tbody tr th:only-of-type {\n",
       "        vertical-align: middle;\n",
       "    }\n",
       "\n",
       "    .dataframe tbody tr th {\n",
       "        vertical-align: top;\n",
       "    }\n",
       "\n",
       "    .dataframe thead th {\n",
       "        text-align: right;\n",
       "    }\n",
       "</style>\n",
       "<table border=\"1\" class=\"dataframe\">\n",
       "  <thead>\n",
       "    <tr style=\"text-align: right;\">\n",
       "      <th></th>\n",
       "      <th>name</th>\n",
       "    </tr>\n",
       "  </thead>\n",
       "  <tbody>\n",
       "    <tr>\n",
       "      <th>0</th>\n",
       "      <td>Alice</td>\n",
       "    </tr>\n",
       "    <tr>\n",
       "      <th>1</th>\n",
       "      <td>Charlie</td>\n",
       "    </tr>\n",
       "  </tbody>\n",
       "</table>\n",
       "</div>"
      ],
      "text/plain": [
       "      name\n",
       "0    Alice\n",
       "1  Charlie"
      ]
     },
     "metadata": {},
     "output_type": "display_data"
    }
   ],
   "source": [
    "# Find all Users who posted a specific topic of Post (topic is a property of Post)\n",
    "query = '''\n",
    "MATCH (n:User)-[:PUBLISHED]->(p:Post)\n",
    "WHERE 'NoSQL' IN p.topic\n",
    "RETURN n.name AS name\n",
    "'''\n",
    "df = run_query_to_pandas(session, query)\n",
    "display(df)"
   ]
  },
  {
   "cell_type": "code",
   "execution_count": 8,
   "id": "5d1a9b97",
   "metadata": {},
   "outputs": [
    {
     "data": {
      "text/html": [
       "<div>\n",
       "<style scoped>\n",
       "    .dataframe tbody tr th:only-of-type {\n",
       "        vertical-align: middle;\n",
       "    }\n",
       "\n",
       "    .dataframe tbody tr th {\n",
       "        vertical-align: top;\n",
       "    }\n",
       "\n",
       "    .dataframe thead th {\n",
       "        text-align: right;\n",
       "    }\n",
       "</style>\n",
       "<table border=\"1\" class=\"dataframe\">\n",
       "  <thead>\n",
       "    <tr style=\"text-align: right;\">\n",
       "      <th></th>\n",
       "      <th>n1.name</th>\n",
       "      <th>n2.name</th>\n",
       "      <th>common_interests</th>\n",
       "    </tr>\n",
       "  </thead>\n",
       "  <tbody>\n",
       "    <tr>\n",
       "      <th>0</th>\n",
       "      <td>Alice</td>\n",
       "      <td>Bob</td>\n",
       "      <td>[AI]</td>\n",
       "    </tr>\n",
       "  </tbody>\n",
       "</table>\n",
       "</div>"
      ],
      "text/plain": [
       "  n1.name n2.name common_interests\n",
       "0   Alice     Bob             [AI]"
      ]
     },
     "metadata": {},
     "output_type": "display_data"
    }
   ],
   "source": [
    "# Find common interests between two specific Users. \n",
    "query = '''\n",
    "MATCH (n1:User {name: 'Alice'}), (n2:User {name: 'Bob'})\n",
    "RETURN n1.name, n2.name, \n",
    "[interest IN n1.interests WHERE interest IN n2.interests] AS common_interests\n",
    "'''\n",
    "df = run_query_to_pandas(session, query)\n",
    "display(df)"
   ]
  },
  {
   "cell_type": "code",
   "execution_count": 9,
   "id": "00266a3e",
   "metadata": {},
   "outputs": [
    {
     "data": {
      "text/html": [
       "<div>\n",
       "<style scoped>\n",
       "    .dataframe tbody tr th:only-of-type {\n",
       "        vertical-align: middle;\n",
       "    }\n",
       "\n",
       "    .dataframe tbody tr th {\n",
       "        vertical-align: top;\n",
       "    }\n",
       "\n",
       "    .dataframe thead th {\n",
       "        text-align: right;\n",
       "    }\n",
       "</style>\n",
       "<table border=\"1\" class=\"dataframe\">\n",
       "  <thead>\n",
       "    <tr style=\"text-align: right;\">\n",
       "      <th></th>\n",
       "      <th>n.name</th>\n",
       "      <th>posts_count</th>\n",
       "    </tr>\n",
       "  </thead>\n",
       "  <tbody>\n",
       "    <tr>\n",
       "      <th>0</th>\n",
       "      <td>Alice</td>\n",
       "      <td>2</td>\n",
       "    </tr>\n",
       "    <tr>\n",
       "      <th>1</th>\n",
       "      <td>Charlie</td>\n",
       "      <td>2</td>\n",
       "    </tr>\n",
       "    <tr>\n",
       "      <th>2</th>\n",
       "      <td>Danny</td>\n",
       "      <td>1</td>\n",
       "    </tr>\n",
       "  </tbody>\n",
       "</table>\n",
       "</div>"
      ],
      "text/plain": [
       "    n.name  posts_count\n",
       "0    Alice            2\n",
       "1  Charlie            2\n",
       "2    Danny            1"
      ]
     },
     "metadata": {},
     "output_type": "display_data"
    }
   ],
   "source": [
    "# Retrieve top 3 Users who created most Posts\n",
    "query = '''\n",
    "MATCH (n:User)-[:PUBLISHED]->(p:Post)\n",
    "RETURN n.name, count(p) AS posts_count\n",
    "ORDER BY posts_count DESC\n",
    "LIMIT 3\n",
    "'''\n",
    "df = run_query_to_pandas(session, query)\n",
    "display(df)"
   ]
  },
  {
   "cell_type": "code",
   "execution_count": 10,
   "id": "f017824c",
   "metadata": {},
   "outputs": [
    {
     "data": {
      "text/html": [
       "<div>\n",
       "<style scoped>\n",
       "    .dataframe tbody tr th:only-of-type {\n",
       "        vertical-align: middle;\n",
       "    }\n",
       "\n",
       "    .dataframe tbody tr th {\n",
       "        vertical-align: top;\n",
       "    }\n",
       "\n",
       "    .dataframe thead th {\n",
       "        text-align: right;\n",
       "    }\n",
       "</style>\n",
       "<table border=\"1\" class=\"dataframe\">\n",
       "  <thead>\n",
       "    <tr style=\"text-align: right;\">\n",
       "      <th></th>\n",
       "      <th>name</th>\n",
       "    </tr>\n",
       "  </thead>\n",
       "  <tbody>\n",
       "    <tr>\n",
       "      <th>0</th>\n",
       "      <td>Bob</td>\n",
       "    </tr>\n",
       "    <tr>\n",
       "      <th>1</th>\n",
       "      <td>Emma</td>\n",
       "    </tr>\n",
       "    <tr>\n",
       "      <th>2</th>\n",
       "      <td>Frank</td>\n",
       "    </tr>\n",
       "  </tbody>\n",
       "</table>\n",
       "</div>"
      ],
      "text/plain": [
       "    name\n",
       "0    Bob\n",
       "1   Emma\n",
       "2  Frank"
      ]
     },
     "metadata": {},
     "output_type": "display_data"
    }
   ],
   "source": [
    "# Retrieve Users who haven’t created any Posts\n",
    "query = '''\n",
    "MATCH (n:User)\n",
    "WHERE NOT (n)-[:PUBLISHED]->(:Post)\n",
    "RETURN n.name as name\n",
    "'''\n",
    "df = run_query_to_pandas(session, query)\n",
    "display(df)"
   ]
  },
  {
   "cell_type": "code",
   "execution_count": 11,
   "id": "1b102626",
   "metadata": {},
   "outputs": [
    {
     "data": {
      "text/plain": [
       "[{'path': [{'name': 'Alice',\n",
       "    'position': 'Data Scientist',\n",
       "    'interests': ['NoSQL', 'AI']},\n",
       "   'FRIENDS_WITH',\n",
       "   {'name': 'Bob',\n",
       "    'position': 'Student',\n",
       "    'interests': ['Machine Learning', 'AI']},\n",
       "   'FRIENDS_WITH',\n",
       "   {'name': 'Charlie',\n",
       "    'position': 'Data Scientist',\n",
       "    'interests': ['Deep Learning', 'NoSQL']}]},\n",
       " {'path': [{'name': 'Alice',\n",
       "    'position': 'Data Scientist',\n",
       "    'interests': ['NoSQL', 'AI']},\n",
       "   'FRIENDS_WITH',\n",
       "   {'name': 'Emma', 'position': 'Student', 'interests': ['Statistics', 'AI']},\n",
       "   'FRIENDS_WITH',\n",
       "   {'name': 'Danny',\n",
       "    'position': 'Student',\n",
       "    'interests': ['Computer Vison', 'Machine Learning']},\n",
       "   'FRIENDS_WITH',\n",
       "   {'name': 'Charlie',\n",
       "    'position': 'Data Scientist',\n",
       "    'interests': ['Deep Learning', 'NoSQL']}]}]"
      ]
     },
     "execution_count": 11,
     "metadata": {},
     "output_type": "execute_result"
    }
   ],
   "source": [
    "# Given two Users, identify if they are indirectly connected through a chain of friends and, if so, return the connecting path. \n",
    "query = '''\n",
    "MATCH path = (alice:User {name: 'Alice'})-[:FRIENDS_WITH*]-(charlie:User {name: 'Charlie'})\n",
    "WHERE length(path) > 0\n",
    "RETURN path\n",
    "'''\n",
    "\n",
    "result = session.run(query)\n",
    "result.data()"
   ]
  },
  {
   "cell_type": "code",
   "execution_count": 12,
   "id": "bf6fd03e",
   "metadata": {},
   "outputs": [
    {
     "data": {
      "text/html": [
       "<div>\n",
       "<style scoped>\n",
       "    .dataframe tbody tr th:only-of-type {\n",
       "        vertical-align: middle;\n",
       "    }\n",
       "\n",
       "    .dataframe tbody tr th {\n",
       "        vertical-align: top;\n",
       "    }\n",
       "\n",
       "    .dataframe thead th {\n",
       "        text-align: right;\n",
       "    }\n",
       "</style>\n",
       "<table border=\"1\" class=\"dataframe\">\n",
       "  <thead>\n",
       "    <tr style=\"text-align: right;\">\n",
       "      <th></th>\n",
       "      <th>name</th>\n",
       "    </tr>\n",
       "  </thead>\n",
       "  <tbody>\n",
       "    <tr>\n",
       "      <th>0</th>\n",
       "      <td>Frank</td>\n",
       "    </tr>\n",
       "  </tbody>\n",
       "</table>\n",
       "</div>"
      ],
      "text/plain": [
       "    name\n",
       "0  Frank"
      ]
     },
     "metadata": {},
     "output_type": "display_data"
    }
   ],
   "source": [
    "# Write a query to identify orphaned Users (Users who have no connections). \n",
    "query = '''\n",
    "MATCH (n:User)\n",
    "WHERE NOT (n)-[:FRIENDS_WITH]-()\n",
    "RETURN n.name as name\n",
    "'''\n",
    "df = run_query_to_pandas(session, query)\n",
    "display(df)"
   ]
  },
  {
   "attachments": {},
   "cell_type": "markdown",
   "id": "88bf511d",
   "metadata": {},
   "source": [
    "Can you think of a scenario when this information is useful? <br>\n",
    "\n",
    "**It can help improve the quality of experience for orphaned users on the social network. People without connections often feel lonely at events. We can organize some ice-breaker activities for these individuals to help them feel more comfortable.**"
   ]
  },
  {
   "cell_type": "code",
   "execution_count": null,
   "id": "f164bc43",
   "metadata": {},
   "outputs": [],
   "source": []
  }
 ],
 "metadata": {
  "kernelspec": {
   "display_name": "Python 3 (ipykernel)",
   "language": "python",
   "name": "python3"
  },
  "language_info": {
   "codemirror_mode": {
    "name": "ipython",
    "version": 3
   },
   "file_extension": ".py",
   "mimetype": "text/x-python",
   "name": "python",
   "nbconvert_exporter": "python",
   "pygments_lexer": "ipython3",
   "version": "3.11.4"
  }
 },
 "nbformat": 4,
 "nbformat_minor": 5
}
